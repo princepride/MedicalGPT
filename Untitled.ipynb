{
 "cells": [
  {
   "cell_type": "code",
   "execution_count": 15,
   "id": "a18c7564-977e-423c-b10b-fc776a5e57d7",
   "metadata": {},
   "outputs": [],
   "source": [
    "!git clone -b llama3_function_call https://github.com/princepride/MedicalGPT"
   ]
  },
  {
   "cell_type": "code",
   "execution_count": 16,
   "id": "5f51d97d-9c94-4b32-9dcb-d58d56fc57db",
   "metadata": {},
   "outputs": [],
   "source": [
    "import os\n",
    "\n",
    "# 设置工作目录\n",
    "work_dir = 'MedicalGPT' # 替换为您想要的目录路径\n",
    "os.chdir(work_dir)"
   ]
  },
  {
   "cell_type": "code",
   "execution_count": 17,
   "id": "aa611688-9d40-4349-bf61-f157f6e56862",
   "metadata": {},
   "outputs": [
    {
     "data": {
      "text/plain": [
       "'/workspace/MedicalGPT/MedicalGPT'"
      ]
     },
     "execution_count": 17,
     "metadata": {},
     "output_type": "execute_result"
    }
   ],
   "source": [
    "%pwd"
   ]
  },
  {
   "cell_type": "code",
   "execution_count": 18,
   "id": "9483b6e4-25f5-4722-88ad-5fa63931e41d",
   "metadata": {},
   "outputs": [],
   "source": [
    "!pip install -r requirements.txt"
   ]
  },
  {
   "cell_type": "code",
   "execution_count": 19,
   "id": "b2541644-8cb7-441b-b246-7daddf1570b8",
   "metadata": {},
   "outputs": [
    {
     "data": {
      "application/vnd.jupyter.widget-view+json": {
       "model_id": "efcea8215909467dbb699314ee4410a8",
       "version_major": 2,
       "version_minor": 0
      },
      "text/plain": [
       "VBox(children=(HTML(value='<center> <img\\nsrc=https://huggingface.co/front/assets/huggingface_logo-noborder.sv…"
      ]
     },
     "metadata": {},
     "output_type": "display_data"
    }
   ],
   "source": [
    "from huggingface_hub import notebook_login\n",
    "notebook_login()"
   ]
  },
  {
   "cell_type": "code",
   "execution_count": 20,
   "id": "c341d905-bded-4e85-9f7b-6c577fad38c1",
   "metadata": {},
   "outputs": [],
   "source": [
    "!bash run_sft.sh"
   ]
  },
  {
   "cell_type": "code",
   "execution_count": null,
   "id": "05982d21-51f4-46f6-91d0-bbf5c97c722c",
   "metadata": {},
   "outputs": [],
   "source": [
    "!python merge_peft_adapter.py --model_type llama \\\n",
    "    --base_model meta-llama/Meta-Llama-3-8B --lora_model outputs-sft-llama3-8b-v1 --output_dir ./merged-sft"
   ]
  },
  {
   "cell_type": "code",
   "execution_count": null,
   "id": "6a866a10",
   "metadata": {},
   "outputs": [],
   "source": [
    "%ls -lh merged-sft/"
   ]
  },
  {
   "cell_type": "code",
   "execution_count": null,
   "id": "9ebcae44",
   "metadata": {},
   "outputs": [],
   "source": [
    "%cat merged-sft/config.json"
   ]
  },
  {
   "cell_type": "code",
   "execution_count": null,
   "id": "ad0389d8",
   "metadata": {},
   "outputs": [],
   "source": [
    "!python inference.py --model_type llama --base_model merged-dpo"
   ]
  }
 ],
 "metadata": {
  "kernelspec": {
   "display_name": "Python 3 (ipykernel)",
   "language": "python",
   "name": "python3"
  },
  "language_info": {
   "codemirror_mode": {
    "name": "ipython",
    "version": 3
   },
   "file_extension": ".py",
   "mimetype": "text/x-python",
   "name": "python",
   "nbconvert_exporter": "python",
   "pygments_lexer": "ipython3",
   "version": "3.10.12"
  }
 },
 "nbformat": 4,
 "nbformat_minor": 5
}
